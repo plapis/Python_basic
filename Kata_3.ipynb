{
 "cells": [
  {
   "cell_type": "code",
   "execution_count": 4,
   "metadata": {},
   "outputs": [
    {
     "name": "stdout",
     "output_type": "stream",
     "text": [
      "Cuidado!!! el asteroide va demasiado rapido.\n"
     ]
    }
   ],
   "source": [
    "#Programa que indica si la velocidad de un asteroide va demasiado rapido. (mas de 25 km/s)\n",
    "asteroide = 58\n",
    "\n",
    "if (asteroide > 25):\n",
    "    print(\"Cuidado!!! el asteroide va demasiado rapido.\")\n",
    "\n",
    "else:\n",
    "    print(\"No te preocupes mi pana, todo al 100.\")\n"
   ]
  },
  {
   "cell_type": "code",
   "execution_count": 5,
   "metadata": {},
   "outputs": [
    {
     "name": "stdout",
     "output_type": "stream",
     "text": [
      "¡Siga con su dia papu!\n"
     ]
    }
   ],
   "source": [
    "# Si un asteroide va a mas de 19 km/s se puede ver una luz.\n",
    "asteroide = 19\n",
    "if asteroide > 20:\n",
    "    print('Mira! ¡Hay una luz mágica en el cielo!')\n",
    "elif asteroide == 20:\n",
    "    print('Mira! ¡Hay una luz mágica en el cielo!')\n",
    "else:\n",
    "    print('¡Siga con su dia papu!')"
   ]
  },
  {
   "cell_type": "code",
   "execution_count": 6,
   "metadata": {},
   "outputs": [
    {
     "name": "stdout",
     "output_type": "stream",
     "text": [
      "Look up! ¡Hay una luz mágica en el cielo!\n"
     ]
    }
   ],
   "source": [
    "# Agrega el código para crear nuevas variables para la velocidad y el tamaño del asteroide\n",
    "\n",
    "velocidad_asteroide = 25\n",
    "tamano_asteroide = 40\n",
    "if velocidad_asteroide > 25 and tamano_asteroide > 25:\n",
    "    print('¡Alerta, Un asteroide muy peligroso viene hacia la Tierra!')\n",
    "elif velocidad_asteroide >= 20:\n",
    "    print('Look up! ¡Hay una luz mágica en el cielo!')\n",
    "elif tamano_asteroide < 25:\n",
    "    print('Nada que ver aquí :)')\n",
    "else:\n",
    "    print('Nada que ver aquí :)')"
   ]
  }
 ],
 "metadata": {
  "interpreter": {
   "hash": "43515153bdc9fa47bdd64e15292aa58af7e9e7b673f05f997733d80b480d63ac"
  },
  "kernelspec": {
   "display_name": "Python 3.10.2 64-bit",
   "language": "python",
   "name": "python3"
  },
  "language_info": {
   "codemirror_mode": {
    "name": "ipython",
    "version": 3
   },
   "file_extension": ".py",
   "mimetype": "text/x-python",
   "name": "python",
   "nbconvert_exporter": "python",
   "pygments_lexer": "ipython3",
   "version": "3.10.2"
  },
  "orig_nbformat": 4
 },
 "nbformat": 4,
 "nbformat_minor": 2
}
